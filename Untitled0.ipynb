{
  "nbformat": 4,
  "nbformat_minor": 0,
  "metadata": {
    "colab": {
      "provenance": [],
      "authorship_tag": "ABX9TyMaQCFPdVjHjsR12mKsisc2",
      "include_colab_link": true
    },
    "kernelspec": {
      "name": "python3",
      "display_name": "Python 3"
    },
    "language_info": {
      "name": "python"
    }
  },
  "cells": [
    {
      "cell_type": "markdown",
      "metadata": {
        "id": "view-in-github",
        "colab_type": "text"
      },
      "source": [
        "<a href=\"https://colab.research.google.com/github/shinezeee/11.18-/blob/main/Untitled0.ipynb\" target=\"_parent\"><img src=\"https://colab.research.google.com/assets/colab-badge.svg\" alt=\"Open In Colab\"/></a>"
      ]
    },
    {
      "cell_type": "markdown",
      "source": [
        "##사칙연산\n",
        "더하기 : +\n",
        "\n",
        "빼기 : -\n",
        "\n",
        "곱하기 : *\n",
        "\n",
        "나누기 :\n",
        "*   / : 우리가 알고 있는 나누기와 동일한 기능 (예 5/2 = 2.5)\n",
        "*   // : 몫을 반환 (예 5/2 = 2)\n",
        "*  % : 나머지를 반환 (예 5/2 = 1)\n",
        "\n",
        "거듭제곱 : **"
      ],
      "metadata": {
        "id": "0oA5EYJ_C_s1"
      }
    },
    {
      "cell_type": "code",
      "source": [
        "# 더하기\n",
        "print(3+2)\n"
      ],
      "metadata": {
        "colab": {
          "base_uri": "https://localhost:8080/"
        },
        "id": "cjCpA1CSEiah",
        "outputId": "521db3d3-ee47-427f-ede1-3ea1910a37a2"
      },
      "execution_count": 1,
      "outputs": [
        {
          "output_type": "stream",
          "name": "stdout",
          "text": [
            "5\n"
          ]
        }
      ]
    },
    {
      "cell_type": "code",
      "source": [
        "# 뺴기\n",
        "print(3-1)"
      ],
      "metadata": {
        "colab": {
          "base_uri": "https://localhost:8080/"
        },
        "id": "gt_ge_OEDAFM",
        "outputId": "74c5516f-355a-4c8f-d1be-78bcc0259001"
      },
      "execution_count": 2,
      "outputs": [
        {
          "output_type": "stream",
          "name": "stdout",
          "text": [
            "2\n"
          ]
        }
      ]
    },
    {
      "cell_type": "code",
      "source": [
        "# 곱하기\n",
        "print(3*2)"
      ],
      "metadata": {
        "colab": {
          "base_uri": "https://localhost:8080/"
        },
        "id": "9mn4ZpxmE42b",
        "outputId": "0167bf8b-5f0e-42b9-f556-31c4187d3aff"
      },
      "execution_count": 3,
      "outputs": [
        {
          "output_type": "stream",
          "name": "stdout",
          "text": [
            "6\n"
          ]
        }
      ]
    },
    {
      "cell_type": "code",
      "source": [
        "# /\n",
        "print(7/2)\n",
        "\n",
        "# //\n",
        "print(7//2)\n",
        "\n",
        "# %\n",
        "print(7%2)"
      ],
      "metadata": {
        "colab": {
          "base_uri": "https://localhost:8080/"
        },
        "id": "JA1ASHHDFCWY",
        "outputId": "ac1b09be-7936-46cd-ebb1-c5a4625921f8"
      },
      "execution_count": 6,
      "outputs": [
        {
          "output_type": "stream",
          "name": "stdout",
          "text": [
            "3.5\n",
            "3\n",
            "1\n"
          ]
        }
      ]
    },
    {
      "cell_type": "markdown",
      "source": [
        "내장함수 : divmod\n",
        "\n",
        "> 내장함수 : 자주 사용하는 기능을 미리 만들어 놓는것\n",
        "\n",
        "**divmod** : 몫과 나머지를 동시에 구해줌"
      ],
      "metadata": {
        "id": "fX4b_SY8FYPk"
      }
    },
    {
      "cell_type": "code",
      "source": [
        "print(divmod(3,2))\n",
        "print(divmod(7,4))\n",
        "print(divmod(13,2))\n",
        "print(divmod(19,4))\n",
        "print(divmod(15,5))\n",
        "\n",
        "print(7//4,\",\" , 7%4)"
      ],
      "metadata": {
        "colab": {
          "base_uri": "https://localhost:8080/"
        },
        "id": "8Sz0aU83F8PM",
        "outputId": "191809d1-6697-48f9-8622-282035ff0304"
      },
      "execution_count": 16,
      "outputs": [
        {
          "output_type": "stream",
          "name": "stdout",
          "text": [
            "(1, 1)\n",
            "(1, 3)\n",
            "(6, 1)\n",
            "(4, 3)\n",
            "(3, 0)\n",
            "1 , 3\n"
          ]
        }
      ]
    },
    {
      "cell_type": "markdown",
      "source": [
        "###괄호\n",
        "\n",
        "수학에서 사용되는 괄호와 동일한 기능\n",
        "\n",
        "() : 괄호안에 있는 것을 먼저 계산\n",
        "\n",
        "사칙연산 순서 :ㅣ 괄호 -> 곱셈, 나눗셈 -> 덧셈, 뺄셈"
      ],
      "metadata": {
        "id": "PTH9F5cPHYfr"
      }
    },
    {
      "cell_type": "code",
      "source": [
        "3+2*4"
      ],
      "metadata": {
        "colab": {
          "base_uri": "https://localhost:8080/"
        },
        "id": "pw5nV1RfH-F9",
        "outputId": "19b07f09-af94-434c-c629-9b584f90fd71"
      },
      "execution_count": 17,
      "outputs": [
        {
          "output_type": "execute_result",
          "data": {
            "text/plain": [
              "11"
            ]
          },
          "metadata": {},
          "execution_count": 17
        }
      ]
    },
    {
      "cell_type": "code",
      "source": [
        "(3+2)*4"
      ],
      "metadata": {
        "colab": {
          "base_uri": "https://localhost:8080/"
        },
        "id": "LepfXVuUICKJ",
        "outputId": "3a4cf385-7970-4fd3-9e48-3e1b21e5e0cd"
      },
      "execution_count": 18,
      "outputs": [
        {
          "output_type": "execute_result",
          "data": {
            "text/plain": [
              "20"
            ]
          },
          "metadata": {},
          "execution_count": 18
        }
      ]
    }
  ]
}