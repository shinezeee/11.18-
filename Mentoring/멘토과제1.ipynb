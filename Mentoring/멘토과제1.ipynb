{
 "cells": [
  {
   "cell_type": "code",
   "execution_count": 1,
   "id": "aac533a0",
   "metadata": {},
   "outputs": [
    {
     "name": "stdout",
     "output_type": "stream",
     "text": [
      "서버 상태 정상.\n",
      "⚠️ 서버 장애 발생! 관리자에게 알림 전송.\n"
     ]
    }
   ],
   "source": [
    "\n",
    "\n",
    "#목표: 서버 상태를 계속 확인하며 장애가 발생하면 알림.\n",
    "import time\n",
    "import random\n",
    "\n",
    "def check_server():\n",
    "    \"\"\"가상 서버 상태 확인 - 장애 확률 20%\"\"\"\n",
    "    return random.choice([\"OK\", \"ERROR\"])\n",
    "\n",
    "# 현업 사례: 서버 상태 모니터링\n",
    "while True:\n",
    "    status = check_server()\n",
    "    if status == \"ERROR\": #status장애라면 /완료\n",
    "        print(\"⚠️ 서버 장애 발생! 관리자에게 알림 전송.\")\n",
    "        break  # 장애 발생 시 반복 종료 /완료\n",
    "    print(\"서버 상태 정상.\")\n",
    "    time.sleep(5) # 5초 대기 후 다시 확인 /완료\n"
   ]
  },
  {
   "cell_type": "code",
   "execution_count": 9,
   "id": "3649a62b",
   "metadata": {},
   "outputs": [
    {
     "name": "stdout",
     "output_type": "stream",
     "text": [
      "Alice의 평균 구매 금액: 340.00원\n",
      "Bob의 평균 구매 금액: 160.00원\n",
      "Charlie의 평균 구매 금액: 0.00원\n"
     ]
    }
   ],
   "source": [
    "\n",
    "# 목표: 사용자 데이터에서 평균 구매 금액을 계산.\n",
    "user_data = [\n",
    "    {\"id\": 1, \"name\": \"Alice\", \"purchases\": [120, 340, 560]},\n",
    "    {\"id\": 2, \"name\": \"Bob\", \"purchases\": [80, 240]},\n",
    "    {\"id\": 3, \"name\": \"Charlie\", \"purchases\": []},\n",
    "]\n",
    "\n",
    "for user in user_data:\n",
    "    total = sum(user[\"purchases\"]) # 총 구매 금액\n",
    "    count = len(user[\"purchases\"])  # 구매 횟수\n",
    "    avg = total / count if count >0 else 0 # 평균 구매 금액 계산  --0일경우 오류 방지 위해 >0 추가\n",
    "    print(f\"{user['name']}의 평균 구매 금액: {avg:.2f}원\")\n"
   ]
  }
 ],
 "metadata": {
  "kernelspec": {
   "display_name": "Python 3",
   "language": "python",
   "name": "python3"
  },
  "language_info": {
   "codemirror_mode": {
    "name": "ipython",
    "version": 3
   },
   "file_extension": ".py",
   "mimetype": "text/x-python",
   "name": "python",
   "nbconvert_exporter": "python",
   "pygments_lexer": "ipython3",
   "version": "3.9.6"
  }
 },
 "nbformat": 4,
 "nbformat_minor": 5
}
