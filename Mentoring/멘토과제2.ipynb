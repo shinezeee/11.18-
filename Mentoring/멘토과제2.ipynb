{
 "cells": [
  {
   "cell_type": "code",
   "execution_count": 1,
   "id": "67f6a4fe",
   "metadata": {},
   "outputs": [
    {
     "name": "stdout",
     "output_type": "stream",
     "text": [
      "⚠️ 서버 장애 발생! 관리자에게 알림 전송.\n"
     ]
    }
   ],
   "source": [
    "\n",
    "import time\n",
    "import random\n",
    "\n",
    "def check_server():\n",
    "    \"\"\"가상 서버 상태 확인 - 장애 확률 20%\"\"\"\n",
    "    return random.choice([\"OK\", \"ERROR\"])\n",
    "\n",
    "# 현업 사례: 서버 상태 모니터링\n",
    "while True:\n",
    "    status = check_server()\n",
    "    if status == \"ERROR\":\n",
    "        print(\"⚠️ 서버 장애 발생! 관리자에게 알림 전송.\")\n",
    "        break  # 장애 발생 시 반복 종료\n",
    "    print(\"서버 상태 정상.\")\n",
    "    time.sleep(5)  # 5초 대기 후 다시 확인\n",
    "\n"
   ]
  },
  {
   "cell_type": "markdown",
   "id": "3a2d20ca",
   "metadata": {},
   "source": [
    "### 1. else 블록의 사용 여부\n",
    "\n",
    "- 첫 번째 코드: if 조건이 만족되지 않으면 바로 다음 코드가 실행됩니다. 즉, else 없이도 동작합니다.\n",
    "- 두 번째 코드: else를 사용하여 명시적으로 정상 상태를 처리합니다.\n",
    "\n",
    "  - 첫 번째 코드는 더 간결하고, 조건문 이후의 흐름이 자연스럽게 연결됩니다.\n",
    "  - 두 번째 코드는 if-else 구조를 통해 의도를 명확히 드러냅니다.\n",
    "\n",
    "### 2. 가독성의 차이\n",
    "\n",
    "- 첫 번째 코드: 간결한 구조로 가독성이 좋으며, 초보자도 쉽게 이해할 수 있습니다.\n",
    "- 두 번째 코드: else를 사용해 조건별 흐름을 명확하게 분리합니다.\n",
    "\n",
    "  - 첫 번째 방식은 간결성을 중시할 때 적합합니다.\n",
    "  - 두 번째 방식은 코드 리뷰 시 의도를 명확히 전달하는 데 유리합니다."
   ]
  },
  {
   "cell_type": "code",
   "execution_count": 2,
   "id": "e7f564d0",
   "metadata": {},
   "outputs": [
    {
     "name": "stdout",
     "output_type": "stream",
     "text": [
      "Alice의 평균 구매 금액: 340.00원\n",
      "Bob의 평균 구매 금액: 160.00원\n",
      "Charlie의 평균 구매 금액: 0.00원\n"
     ]
    }
   ],
   "source": [
    "# 현업 사례: 데이터 분석\n",
    "user_data = [\n",
    "    {\"id\": 1, \"name\": \"Alice\", \"purchases\": [120, 340, 560]},\n",
    "    {\"id\": 2, \"name\": \"Bob\", \"purchases\": [80, 240]},\n",
    "    {\"id\": 3, \"name\": \"Charlie\", \"purchases\": []},\n",
    "]\n",
    "\n",
    "for user in user_data:\n",
    "    total = sum(user[\"purchases\"])  # 총 구매 금액\n",
    "    count = len(user[\"purchases\"])  # 구매 횟수\n",
    "    avg = total / count if count > 0 else 0  # 평균 구매 금액 계산\n",
    "    print(f\"{user['name']}의 평균 구매 금액: {avg:.2f}원\")\n",
    "\n"
   ]
  },
  {
   "cell_type": "code",
   "execution_count": 8,
   "id": "77ab6aaa",
   "metadata": {},
   "outputs": [
    {
     "name": "stdout",
     "output_type": "stream",
     "text": [
      "Alice의 평균 구매 금액: 340.00원\n",
      "Bob의 평균 구매 금액: 165.00원\n",
      "Charlie의 평균 구매 금액: 15.00원\n"
     ]
    }
   ],
   "source": [
    "\n",
    "# 목표: 사용자 데이터에서 평균 구매 금액을 계산.\n",
    "user_data = [\n",
    "    {\"id\": 1, \"name\": \"Alice\", \"purchases\": [120, 340, 560]},\n",
    "    {\"id\": 2, \"name\": \"Bob\", \"purchases\": [80, 250]},\n",
    "    {\"id\": 3, \"name\": \"Charlie\", \"purchases\": []},\n",
    "]\n",
    "\n",
    "for user in user_data:\n",
    "    total =  sum(user[\"purchases\"])\n",
    "    count =   len(user[\"purchases\"])\n",
    "\n",
    "    if count>1:\n",
    "        avg = total/count\n",
    "        print(f\"{user['name']}의 평균 구매 금액: {avg:.2f}원\")\n",
    "\n",
    "    else:\n",
    "        print(f\"{user['name']}의 평균 구매 금액 : {avg:.2f}원\")\n"
   ]
  },
  {
   "cell_type": "markdown",
   "id": "3d320acf",
   "metadata": {},
   "source": [
    "### 1. 조건문 위치의 차이\n",
    "\n",
    "- 첫 번째 코드는 if count >= 1 조건문을 사용하여, 평균을 계산할지 말지 분기합니다.\n",
    "- 두 번째 코드는 avg = total / count if count > 0 else 0를 사용하여, 삼항 연산자로 평균을 바로 계산합니다.\n",
    "\n",
    "  - 첫 번째 코드는 조건문을 명시적으로 나눠서 초보자도 쉽게 이해할 수 있는 방식입니다.\n",
    "  - 두 번째 코드는 간결하지만 삼항 연산자를 이해해야 하므로 Python 문법에 익숙한 사람에게 적합합니다.\n",
    "\n",
    "### 2. 결과 처리 방식의 차이\n",
    "\n",
    "- 첫 번째 코드는 구매 내역이 없는 사용자를 처리할 때 print 문을 두 번 나누어 처리합니다.구매 금액이 없는 경우 별도로 메시지를 출력합니다.\n",
    "- 두 번째 코드는 구매 내역이 없는 경우 평균을 0으로 처리하며, 하나의 print 문에서 모든 경우를 처리합니다.\n",
    "\n",
    "  - 첫 번째 코드는 명시적인 예외 처리가 돋보이며, 결과 메시지를 상황에 맞게 구체적으로 보여줍니다.\n",
    "  - 두 번째 코드는 구매 내역이 없는 사용자를 평균 0원으로 처리하며, 코드가 더 간단해집니다.\n",
    "\n",
    "### 3. 가독성과 간결성\n",
    "\n",
    "- 첫 번째 코드는 조건문을 분리하여 논리를 단계적으로 보여주므로 초보자에게 더 읽기 쉽습니다.\n",
    "- 두 번째 코드는 삼항 연산자를 사용하여 코드가 더 간결하며, 한 줄에서 평균을 계산합니다.\n",
    "\n",
    "  - 첫 번째 방식은 디버깅 및 설명에 유리합니다.\n",
    "  - 두 번째 방식은 코드가 길어지는 것을 방지하므로 유지보수에 유리합니다.\n"
   ]
  },
  {
   "cell_type": "markdown",
   "id": "ed809cf9",
   "metadata": {},
   "source": [
    "### 문제 1: 서버 상태 모니터링\n",
    "\n",
    "가상 서버 상태를 실시간으로 모니터링하여 문제를 탐지하고, 특정 횟수 이상 연속적으로 장애가 발생했을 때 알림을 보내는 프로그램을 작성하세요.\n",
    "\n",
    "### 요구사항:\n",
    "\n",
    "- 장애 상태가 연속으로 발생하면 이를 탐지해야 합니다.\n",
    "- 연속 장애가 3회 이상일 경우 관리자에게 알림을 전송하고 프로그램을 종료합니다.\n",
    "- 정상 상태는 계속 출력하며, 장애가 발생하면 현재 시각과 함께 장애 정보를 기록합니다.\n",
    "- 장애 정보를 저장하는 error_logs 리스트를 구현합니다.\n",
    "\n",
    "\n"
   ]
  },
  {
   "cell_type": "code",
   "execution_count": 5,
   "id": "824e2b7f",
   "metadata": {},
   "outputs": [
    {
     "name": "stdout",
     "output_type": "stream",
     "text": [
      "⚠️ 서버 장애 발생! (연속 장애: 1)\n",
      "⚠️ 서버 장애 발생! (연속 장애: 2)\n",
      "2024-12-09 20:13:26: 서버 상태 정상.\n",
      "⚠️ 서버 장애 발생! (연속 장애: 1)\n",
      "⚠️ 서버 장애 발생! (연속 장애: 2)\n",
      "⚠️ 서버 장애 발생! (연속 장애: 3)\n",
      "🚨 연속 장애 임계치 도달! 관리자에게 알림 전송.\n",
      "장애 로그: ['2024-12-09 20:13:16: 서버 장애 발생', '2024-12-09 20:13:21: 서버 장애 발생', '2024-12-09 20:13:31: 서버 장애 발생', '2024-12-09 20:13:36: 서버 장애 발생', '2024-12-09 20:13:41: 서버 장애 발생']\n"
     ]
    }
   ],
   "source": []
  },
  {
   "cell_type": "markdown",
   "id": "90ac1964",
   "metadata": {},
   "source": [
    "## 문제 2: 사용자 구매 데이터 분석\n",
    "\n",
    "사용자 데이터를 분석하여 평균 구매 금액이 가장 높은 사용자와 구매 데이터가 없는 사용자 정보를 출력하세요.\n",
    "\n",
    "### 요구사항:\n",
    "\n",
    "- 모든 사용자의 총 구매 금액, 평균 구매 금액, 구매 횟수를 출력합니다.\n",
    "- 평균 구매 금액이 가장 높은 사용자를 탐지하고 출력합니다.\n",
    "- 구매 데이터가 없는 사용자 목록을 별도로 출력합니다.\n",
    "- 데이터가 커질 경우 성능 최적화를 고려하세요."
   ]
  },
  {
   "cell_type": "code",
   "execution_count": 6,
   "id": "6629d8cb",
   "metadata": {},
   "outputs": [
    {
     "name": "stdout",
     "output_type": "stream",
     "text": [
      "📊 사용자 구매 데이터 분석 결과:\n",
      "- Alice | 총 구매 금액: 1020원, 구매 횟수: 3, 평균 구매 금액: 340.00원\n",
      "- Bob | 총 구매 금액: 320원, 구매 횟수: 2, 평균 구매 금액: 160.00원\n",
      "- Charlie | 총 구매 금액: 0원, 구매 횟수: 0, 평균 구매 금액: 0.00원\n",
      "- David | 총 구매 금액: 3000원, 구매 횟수: 3, 평균 구매 금액: 1000.00원\n",
      "- Eve | 총 구매 금액: 0원, 구매 횟수: 0, 평균 구매 금액: 0.00원\n",
      "\n",
      "🏆 평균 구매 금액이 가장 높은 사용자:\n",
      "- David (평균 구매 금액: 1000.00원)\n",
      "\n",
      "🚫 구매 데이터가 없는 사용자:\n",
      "Charlie, Eve\n"
     ]
    }
   ],
   "source": []
  },
  {
   "cell_type": "code",
   "execution_count": null,
   "id": "76537e75",
   "metadata": {},
   "outputs": [],
   "source": []
  }
 ],
 "metadata": {
  "kernelspec": {
   "display_name": "Python 3 (ipykernel)",
   "language": "python",
   "name": "python3"
  },
  "language_info": {
   "codemirror_mode": {
    "name": "ipython",
    "version": 3
   },
   "file_extension": ".py",
   "mimetype": "text/x-python",
   "name": "python",
   "nbconvert_exporter": "python",
   "pygments_lexer": "ipython3",
   "version": "3.8.13"
  }
 },
 "nbformat": 4,
 "nbformat_minor": 5
}
